{
  "nbformat": 4,
  "nbformat_minor": 0,
  "metadata": {
    "colab": {
      "provenance": [],
      "authorship_tag": "ABX9TyPKwdCqtDNobrLFGOMPQ1b0",
      "include_colab_link": true
    },
    "kernelspec": {
      "name": "python3",
      "display_name": "Python 3"
    },
    "language_info": {
      "name": "python"
    }
  },
  "cells": [
    {
      "cell_type": "markdown",
      "metadata": {
        "id": "view-in-github",
        "colab_type": "text"
      },
      "source": [
        "<a href=\"https://colab.research.google.com/github/JuanLara18/MNIST-Digit-Classifier-Generator/blob/main/Claasificador%20y%20generador%20-%20NB.ipynb\" target=\"_parent\"><img src=\"https://colab.research.google.com/assets/colab-badge.svg\" alt=\"Open In Colab\"/></a>"
      ]
    },
    {
      "cell_type": "code",
      "source": [
        "# Importar bibliotecas necesarias\n",
        "import numpy as np\n",
        "from sklearn import datasets\n",
        "from sklearn.model_selection import train_test_split\n",
        "from sklearn.naive_bayes import MultinomialNB\n",
        "from sklearn.metrics import accuracy_score, classification_report\n",
        "from PIL import Image, ImageDraw"
      ],
      "metadata": {
        "id": "GJY3iTQh7TXb"
      },
      "execution_count": 1,
      "outputs": []
    },
    {
      "cell_type": "code",
      "source": [
        "# Cargar el conjunto de datos MNIST\n",
        "mnist = datasets.fetch_openml('mnist_784', version=1)\n",
        "X, y = mnist.data, mnist.target.astype(int)\n",
        "\n",
        "# Dividir el conjunto de datos en entrenamiento y prueba\n",
        "X_train, X_test, y_train, y_test = train_test_split(X, y, test_size=0.2, random_state=42)"
      ],
      "metadata": {
        "id": "ZRrlrOLk7TL-"
      },
      "execution_count": null,
      "outputs": []
    },
    {
      "cell_type": "code",
      "source": [
        "# Crear y entrenar un modelo Naive Bayes (MultinomialNB)\n",
        "nb_model = MultinomialNB()\n",
        "nb_model.fit(X_train, y_train)\n"
      ],
      "metadata": {
        "id": "3gmAv7Td7ZVl"
      },
      "execution_count": null,
      "outputs": []
    },
    {
      "cell_type": "code",
      "source": [
        "# Realizar predicciones en el conjunto de prueba\n",
        "y_pred = nb_model.predict(X_test)"
      ],
      "metadata": {
        "id": "TUv_hRDR7bBZ"
      },
      "execution_count": null,
      "outputs": []
    },
    {
      "cell_type": "code",
      "source": [
        "# Calcular la precisión del modelo\n",
        "accuracy = accuracy_score(y_test, y_pred)\n",
        "print(f\"Precisión del modelo: {accuracy:.2f}\")\n",
        "\n",
        "# Mostrar informe de clasificación\n",
        "print(classification_report(y_test, y_pred))"
      ],
      "metadata": {
        "id": "uzVS_qQO7dr6"
      },
      "execution_count": null,
      "outputs": []
    },
    {
      "cell_type": "code",
      "source": [
        "# Generar un nuevo dígito (ejemplo con dígito 6)\n",
        "new_digit = 6\n",
        "\n",
        "# Crear una imagen en blanco y negro (28x28 píxeles)\n",
        "new_image = Image.new('L', (28, 28), color=0)\n",
        "\n",
        "# Dibujar el dígito en la imagen\n",
        "draw = ImageDraw.Draw(new_image)\n",
        "draw.text((10, 10), str(new_digit), fill=255)\n",
        "\n",
        "# Convertir la imagen a un arreglo NumPy\n",
        "new_digit_data = np.array(new_image)\n",
        "\n",
        "# Aplanar el arreglo\n",
        "new_digit_data = new_digit_data.reshape(1, -1)\n",
        "\n",
        "# Predecir el nuevo dígito\n",
        "predicted_digit = nb_model.predict(new_digit_data)\n",
        "print(f\"El modelo predice que el nuevo dígito es: {predicted_digit[0]}\")"
      ],
      "metadata": {
        "id": "Ws2fNATv7f3d"
      },
      "execution_count": null,
      "outputs": []
    }
  ]
}